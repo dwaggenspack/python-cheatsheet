{
 "cells": [
  {
   "cell_type": "code",
   "execution_count": 1,
   "metadata": {},
   "outputs": [
    {
     "name": "stdout",
     "output_type": "stream",
     "text": [
      "Yes, it's true.\n"
     ]
    }
   ],
   "source": [
    "if True:\n",
    "    print('Yes, it\\'s true.') # 4 spaces of indentation\n",
    "else:\n",
    "    print('Must not be true')"
   ]
  },
  {
   "cell_type": "code",
   "execution_count": 2,
   "metadata": {},
   "outputs": [
    {
     "name": "stdout",
     "output_type": "stream",
     "text": [
      "hola world\n"
     ]
    }
   ],
   "source": [
    "print('hola world')"
   ]
  },
  {
   "cell_type": "code",
   "execution_count": 3,
   "metadata": {},
   "outputs": [
    {
     "name": "stdout",
     "output_type": "stream",
     "text": [
      "56\n"
     ]
    }
   ],
   "source": [
    "sum = 15 + \\\n",
    "    26 + \\\n",
    "    15\n",
    "print(sum) # 56"
   ]
  },
  {
   "cell_type": "code",
   "execution_count": 4,
   "metadata": {
    "scrolled": true
   },
   "outputs": [
    {
     "name": "stdout",
     "output_type": "stream",
     "text": [
      "Whoops, you can't divide by zero you silly zebra.\n",
      "Hey, this script is still being executed!\n"
     ]
    }
   ],
   "source": [
    "a = 0\n",
    "b = 15\n",
    "try:\n",
    "    PercentChange = 100 * (b - a)/ a # ZeroDivisionError: division by zero\n",
    "except ZeroDivisionError:\n",
    "    print(\"Whoops, you can't divide by zero you silly zebra.\")\n",
    "print(\"Hey, this script is still being executed!\")"
   ]
  },
  {
   "cell_type": "code",
   "execution_count": 5,
   "metadata": {},
   "outputs": [
    {
     "name": "stdout",
     "output_type": "stream",
     "text": [
      "hello world\n"
     ]
    }
   ],
   "source": [
    "# the variable greeting is created and assigned a string type value\n",
    "greeting = 'hello world'\n",
    "print(greeting)"
   ]
  },
  {
   "cell_type": "code",
   "execution_count": 6,
   "metadata": {},
   "outputs": [
    {
     "name": "stdout",
     "output_type": "stream",
     "text": [
      "True\n",
      "False\n"
     ]
    }
   ],
   "source": [
    "import keyword\n",
    "print(keyword.iskeyword('raise')) # True\n",
    "print(keyword.iskeyword('alligator')) # False"
   ]
  },
  {
   "cell_type": "code",
   "execution_count": 7,
   "metadata": {},
   "outputs": [
    {
     "name": "stdout",
     "output_type": "stream",
     "text": [
      "hello world\n"
     ]
    }
   ],
   "source": [
    "# the variable greeting is created and assigned a string type value\n",
    "my_greeting = 'hello world'\n",
    "print(my_greeting)"
   ]
  },
  {
   "cell_type": "code",
   "execution_count": 8,
   "metadata": {},
   "outputs": [
    {
     "ename": "TypeError",
     "evalue": "unsupported operand type(s) for +: 'int' and 'str'",
     "output_type": "error",
     "traceback": [
      "\u001b[1;31m---------------------------------------------------------------------------\u001b[0m",
      "\u001b[1;31mTypeError\u001b[0m                                 Traceback (most recent call last)",
      "\u001b[1;32m<ipython-input-8-7e2a9c74a0bb>\u001b[0m in \u001b[0;36m<module>\u001b[1;34m\u001b[0m\n\u001b[0;32m      1\u001b[0m \u001b[0ma\u001b[0m \u001b[1;33m=\u001b[0m \u001b[1;36m4\u001b[0m\u001b[1;33m\u001b[0m\u001b[0m\n\u001b[0;32m      2\u001b[0m \u001b[0mb\u001b[0m \u001b[1;33m=\u001b[0m \u001b[1;34m'4'\u001b[0m\u001b[1;33m\u001b[0m\u001b[0m\n\u001b[1;32m----> 3\u001b[1;33m \u001b[0mc\u001b[0m \u001b[1;33m=\u001b[0m \u001b[0ma\u001b[0m \u001b[1;33m+\u001b[0m \u001b[0mb\u001b[0m  \u001b[1;31m# will throw a TypeError\u001b[0m\u001b[1;33m\u001b[0m\u001b[0m\n\u001b[0m",
      "\u001b[1;31mTypeError\u001b[0m: unsupported operand type(s) for +: 'int' and 'str'"
     ]
    }
   ],
   "source": [
    "a = 4\n",
    "b = '4'\n",
    "c = a + b  # will throw a TypeError"
   ]
  },
  {
   "cell_type": "code",
   "execution_count": 9,
   "metadata": {},
   "outputs": [
    {
     "data": {
      "text/plain": [
       "8"
      ]
     },
     "execution_count": 9,
     "metadata": {},
     "output_type": "execute_result"
    }
   ],
   "source": [
    "a = 4\n",
    "b = '4'\n",
    "c = a + int(b) # converts the str value to integer\n",
    "c # output is 8"
   ]
  },
  {
   "cell_type": "code",
   "execution_count": 10,
   "metadata": {},
   "outputs": [
    {
     "name": "stdout",
     "output_type": "stream",
     "text": [
      "True\n",
      "False\n",
      "True\n",
      "False\n",
      "True\n",
      "True\n",
      "False\n"
     ]
    }
   ],
   "source": [
    "print(26 == 26)           # True\n",
    "print(26 == 42)           # False\n",
    "print('hello' == 'hello') # True\n",
    "print('hello' == 'Hello') # False\n",
    "print('cat' != 'cow')     # True\n",
    "print(42 == 42.0 )        # True\n",
    "print(42 == '42')         # False"
   ]
  },
  {
   "cell_type": "code",
   "execution_count": 11,
   "metadata": {},
   "outputs": [
    {
     "ename": "NameError",
     "evalue": "name 'coords' is not defined",
     "output_type": "error",
     "traceback": [
      "\u001b[1;31m---------------------------------------------------------------------------\u001b[0m",
      "\u001b[1;31mNameError\u001b[0m                                 Traceback (most recent call last)",
      "\u001b[1;32m<ipython-input-11-38d2e4087b73>\u001b[0m in \u001b[0;36m<module>\u001b[1;34m\u001b[0m\n\u001b[0;32m      1\u001b[0m \u001b[0mcoords_list\u001b[0m \u001b[1;33m=\u001b[0m \u001b[1;33m[\u001b[0m\u001b[1;36m90.2\u001b[0m\u001b[1;33m,\u001b[0m\u001b[1;36m34.9\u001b[0m\u001b[1;33m]\u001b[0m\u001b[1;33m\u001b[0m\u001b[0m\n\u001b[1;32m----> 2\u001b[1;33m \u001b[0mcoords_tuple\u001b[0m \u001b[1;33m=\u001b[0m \u001b[0mtuple\u001b[0m\u001b[1;33m(\u001b[0m\u001b[0mcoords\u001b[0m\u001b[1;33m)\u001b[0m\u001b[1;33m\u001b[0m\u001b[0m\n\u001b[0m\u001b[0;32m      3\u001b[0m \u001b[0mprint\u001b[0m\u001b[1;33m(\u001b[0m\u001b[0mcoords_tuple\u001b[0m\u001b[1;33m)\u001b[0m \u001b[1;31m# (90.2, 34.9)\u001b[0m\u001b[1;33m\u001b[0m\u001b[0m\n",
      "\u001b[1;31mNameError\u001b[0m: name 'coords' is not defined"
     ]
    }
   ],
   "source": [
    "coords_list = [90.2,34.9]\n",
    "coords_tuple = tuple(coords)\n",
    "print(coords_tuple) # (90.2, 34.9)"
   ]
  },
  {
   "cell_type": "code",
   "execution_count": 12,
   "metadata": {},
   "outputs": [
    {
     "name": "stdout",
     "output_type": "stream",
     "text": [
      "4\n",
      "<class 'int'>\n"
     ]
    }
   ],
   "source": [
    "number = 4\n",
    "print(number) # 4\n",
    "print(type(4)) # <class 'int'>"
   ]
  },
  {
   "cell_type": "code",
   "execution_count": 13,
   "metadata": {},
   "outputs": [
    {
     "name": "stdout",
     "output_type": "stream",
     "text": [
      "4.5\n",
      "<class 'float'>\n"
     ]
    }
   ],
   "source": [
    "number = 4.5\n",
    "print(number) # 4.5\n",
    "print(type(number)) # <class 'float'>"
   ]
  },
  {
   "cell_type": "code",
   "execution_count": 14,
   "metadata": {},
   "outputs": [
    {
     "name": "stdout",
     "output_type": "stream",
     "text": [
      "<class 'int'> <class 'float'>\n",
      "9.5 <class 'float'>\n"
     ]
    }
   ],
   "source": [
    "a = 4\n",
    "b = 5.5\n",
    "print(type(a), type(b)) # <class 'int'> <class 'float'>\n",
    "c = a + b\n",
    "print(c, type(c)) # 9.5 <class 'float'>"
   ]
  },
  {
   "cell_type": "code",
   "execution_count": 15,
   "metadata": {},
   "outputs": [
    {
     "name": "stdout",
     "output_type": "stream",
     "text": [
      "a text string\n",
      "another text string\n",
      "I'm texting.\n"
     ]
    }
   ],
   "source": [
    "a = 'a text string'\n",
    "print(a)\n",
    "b = \"another text string\"\n",
    "print(b)\n",
    "c = 'I\\'m texting.' # backslash to escape the single quote\n",
    "print(c) # I'm texting."
   ]
  },
  {
   "cell_type": "code",
   "execution_count": 16,
   "metadata": {},
   "outputs": [
    {
     "name": "stdout",
     "output_type": "stream",
     "text": [
      "a\n",
      "b\n"
     ]
    },
    {
     "ename": "IndexError",
     "evalue": "string index out of range",
     "output_type": "error",
     "traceback": [
      "\u001b[1;31m---------------------------------------------------------------------------\u001b[0m",
      "\u001b[1;31mIndexError\u001b[0m                                Traceback (most recent call last)",
      "\u001b[1;32m<ipython-input-16-8e4889b3026f>\u001b[0m in \u001b[0;36m<module>\u001b[1;34m\u001b[0m\n\u001b[0;32m      3\u001b[0m \u001b[0msecond_letter\u001b[0m \u001b[1;33m=\u001b[0m \u001b[0mletters\u001b[0m\u001b[1;33m[\u001b[0m\u001b[1;36m1\u001b[0m\u001b[1;33m]\u001b[0m\u001b[1;33m\u001b[0m\u001b[0m\n\u001b[0;32m      4\u001b[0m \u001b[0mprint\u001b[0m\u001b[1;33m(\u001b[0m\u001b[0msecond_letter\u001b[0m\u001b[1;33m)\u001b[0m \u001b[1;31m# b\u001b[0m\u001b[1;33m\u001b[0m\u001b[0m\n\u001b[1;32m----> 5\u001b[1;33m \u001b[0mprint\u001b[0m\u001b[1;33m(\u001b[0m\u001b[0mletters\u001b[0m\u001b[1;33m[\u001b[0m\u001b[1;36m7\u001b[0m\u001b[1;33m]\u001b[0m\u001b[1;33m)\u001b[0m \u001b[1;31m#IndexError: string index out of range\u001b[0m\u001b[1;33m\u001b[0m\u001b[0m\n\u001b[0m",
      "\u001b[1;31mIndexError\u001b[0m: string index out of range"
     ]
    }
   ],
   "source": [
    "letters = 'abcdefg'\n",
    "print(letters[0]) # a\n",
    "second_letter = letters[1]\n",
    "print(second_letter) # b\n",
    "print(letters[7]) #IndexError: string index out of range"
   ]
  },
  {
   "cell_type": "code",
   "execution_count": 17,
   "metadata": {},
   "outputs": [
    {
     "name": "stdout",
     "output_type": "stream",
     "text": [
      "cdef\n"
     ]
    }
   ],
   "source": [
    "letters = 'abcdefg'\n",
    "sliced = letters[2:6]\n",
    "print(sliced) # cdef"
   ]
  },
  {
   "cell_type": "code",
   "execution_count": 18,
   "metadata": {},
   "outputs": [
    {
     "name": "stdout",
     "output_type": "stream",
     "text": [
      "cdefg\n"
     ]
    }
   ],
   "source": [
    "letters = 'abcdefg'\n",
    "sliced = letters[2:]\n",
    "print(sliced) # cdefg"
   ]
  },
  {
   "cell_type": "code",
   "execution_count": 19,
   "metadata": {},
   "outputs": [
    {
     "name": "stdout",
     "output_type": "stream",
     "text": [
      "abcd\n"
     ]
    }
   ],
   "source": [
    "letters = 'abcdefg'\n",
    "sliced = letters[:4]\n",
    "print(sliced) # abcd"
   ]
  },
  {
   "cell_type": "code",
   "execution_count": 20,
   "metadata": {},
   "outputs": [
    {
     "name": "stdout",
     "output_type": "stream",
     "text": [
      "bdf\n"
     ]
    }
   ],
   "source": [
    "letters = 'abcdefg'\n",
    "sliced = letters[1:6:2]\n",
    "print(sliced) # bdf"
   ]
  },
  {
   "cell_type": "code",
   "execution_count": 21,
   "metadata": {},
   "outputs": [
    {
     "name": "stdout",
     "output_type": "stream",
     "text": [
      "g\n",
      "e\n"
     ]
    }
   ],
   "source": [
    "letters = 'abcdefg'\n",
    "last_element = letters[-1]\n",
    "print(last_element) # g\n",
    "third_to_last_element = letters[-3]\n",
    "print(third_to_last_element) # e"
   ]
  },
  {
   "cell_type": "code",
   "execution_count": 22,
   "metadata": {},
   "outputs": [
    {
     "ename": "TypeError",
     "evalue": "'str' object does not support item assignment",
     "output_type": "error",
     "traceback": [
      "\u001b[1;31m---------------------------------------------------------------------------\u001b[0m",
      "\u001b[1;31mTypeError\u001b[0m                                 Traceback (most recent call last)",
      "\u001b[1;32m<ipython-input-22-06717751f109>\u001b[0m in \u001b[0;36m<module>\u001b[1;34m\u001b[0m\n\u001b[0;32m      1\u001b[0m \u001b[0mletters\u001b[0m \u001b[1;33m=\u001b[0m \u001b[1;34m'abcdefg'\u001b[0m\u001b[1;33m\u001b[0m\u001b[0m\n\u001b[1;32m----> 2\u001b[1;33m \u001b[0mletters\u001b[0m\u001b[1;33m[\u001b[0m\u001b[1;36m2\u001b[0m\u001b[1;33m]\u001b[0m \u001b[1;33m=\u001b[0m \u001b[1;34m'm'\u001b[0m \u001b[1;31m#TypeError: 'str' object does not support item assignment\u001b[0m\u001b[1;33m\u001b[0m\u001b[0m\n\u001b[0m",
      "\u001b[1;31mTypeError\u001b[0m: 'str' object does not support item assignment"
     ]
    }
   ],
   "source": [
    "letters = 'abcdefg'\n",
    "letters[2] = 'm' #TypeError: 'str' object does not support item assignment"
   ]
  },
  {
   "cell_type": "code",
   "execution_count": 23,
   "metadata": {},
   "outputs": [
    {
     "name": "stdout",
     "output_type": "stream",
     "text": [
      "I am a string \n",
      "string string string string string string \n"
     ]
    }
   ],
   "source": [
    "s = 'string '\n",
    "s2 = 'I am a ' + s\n",
    "print(s2) # I am a string\n",
    "print(s*6) # string string string string string string "
   ]
  },
  {
   "cell_type": "code",
   "execution_count": 24,
   "metadata": {},
   "outputs": [
    {
     "name": "stdout",
     "output_type": "stream",
     "text": [
      "False\n",
      "True\n"
     ]
    }
   ],
   "source": [
    "a = 'abc'\n",
    "b = 'bcd'\n",
    "print(a > b) # False\n",
    "print(a < b) # True"
   ]
  },
  {
   "cell_type": "code",
   "execution_count": 25,
   "metadata": {},
   "outputs": [
    {
     "name": "stdout",
     "output_type": "stream",
     "text": [
      "True\n"
     ]
    }
   ],
   "source": [
    "animal = 'alligator'\n",
    "print('gator' in animal) # True"
   ]
  },
  {
   "cell_type": "code",
   "execution_count": 26,
   "metadata": {},
   "outputs": [
    {
     "name": "stdout",
     "output_type": "stream",
     "text": [
      "Paging Mr.Dobalina. Mr.Bob Dobalina.\n"
     ]
    }
   ],
   "source": [
    "first_name = 'Bob'\n",
    "last_name = 'Dobalina'\n",
    "output = f'Paging Mr.{last_name}. Mr.{first_name} {last_name}.'\n",
    "print(output) #Paging Mr.Dobalina. Mr.Bob Dobalina."
   ]
  },
  {
   "cell_type": "code",
   "execution_count": 27,
   "metadata": {},
   "outputs": [
    {
     "name": "stdout",
     "output_type": "stream",
     "text": [
      "3 c a\n",
      "4.6 <class 'str'>\n"
     ]
    }
   ],
   "source": [
    "length = len('abc') \n",
    "highest_char = max('abc') \n",
    "lowest_char = min('abc')\n",
    "print(length, highest_char, lowest_char) # 3 c a\n",
    "stringified = str(4.6)    \n",
    "print(stringified, type(stringified)) #4.6 <class 'str'>"
   ]
  },
  {
   "cell_type": "code",
   "execution_count": 28,
   "metadata": {},
   "outputs": [
    {
     "name": "stdout",
     "output_type": "stream",
     "text": [
      "CARTOGRAPHER\n"
     ]
    },
    {
     "ename": "AttributeError",
     "evalue": "'str' object has no attribute 'reverse'",
     "output_type": "error",
     "traceback": [
      "\u001b[1;31m---------------------------------------------------------------------------\u001b[0m",
      "\u001b[1;31mAttributeError\u001b[0m                            Traceback (most recent call last)",
      "\u001b[1;32m<ipython-input-28-c5bf650d1d3d>\u001b[0m in \u001b[0;36m<module>\u001b[1;34m\u001b[0m\n\u001b[0;32m      1\u001b[0m \u001b[0mjob\u001b[0m \u001b[1;33m=\u001b[0m \u001b[1;34m'cartographer'\u001b[0m\u001b[1;33m\u001b[0m\u001b[0m\n\u001b[0;32m      2\u001b[0m \u001b[0mprint\u001b[0m\u001b[1;33m(\u001b[0m\u001b[0mjob\u001b[0m\u001b[1;33m.\u001b[0m\u001b[0mupper\u001b[0m\u001b[1;33m(\u001b[0m\u001b[1;33m)\u001b[0m\u001b[1;33m)\u001b[0m \u001b[1;31m# CARTOGRAPHER\u001b[0m\u001b[1;33m\u001b[0m\u001b[0m\n\u001b[1;32m----> 3\u001b[1;33m \u001b[0mjob_reversed\u001b[0m \u001b[1;33m=\u001b[0m \u001b[0mjob\u001b[0m\u001b[1;33m.\u001b[0m\u001b[0mreverse\u001b[0m\u001b[1;33m(\u001b[0m\u001b[1;33m)\u001b[0m\u001b[1;33m\u001b[0m\u001b[0m\n\u001b[0m\u001b[0;32m      4\u001b[0m \u001b[0mprint\u001b[0m\u001b[1;33m(\u001b[0m\u001b[0mjob\u001b[0m\u001b[1;33m.\u001b[0m\u001b[0mupper\u001b[0m\u001b[1;33m(\u001b[0m\u001b[1;33m)\u001b[0m\u001b[1;33m)\u001b[0m \u001b[1;31m# CARTOGRAPHER\u001b[0m\u001b[1;33m\u001b[0m\u001b[0m\n\u001b[0;32m      5\u001b[0m \u001b[0mtitle\u001b[0m \u001b[1;33m=\u001b[0m \u001b[1;34m'DIRECTOR'\u001b[0m\u001b[1;33m\u001b[0m\u001b[0m\n",
      "\u001b[1;31mAttributeError\u001b[0m: 'str' object has no attribute 'reverse'"
     ]
    }
   ],
   "source": [
    "job = 'cartographer'\n",
    "print(job.upper()) # CARTOGRAPHER\n",
    "job_reversed = job.reverse()\n",
    "print(job.upper()) # CARTOGRAPHER\n",
    "title = 'DIRECTOR'\n",
    "print(title.lower()) # director\n",
    "phrase = '   the early bird catches the worm  '\n",
    "print(phrase.strip()) #the early bird catches the worm"
   ]
  },
  {
   "cell_type": "code",
   "execution_count": 29,
   "metadata": {},
   "outputs": [
    {
     "name": "stdout",
     "output_type": "stream",
     "text": [
      "True\n",
      "False\n"
     ]
    }
   ],
   "source": [
    "number = \"155\"\n",
    "letters = \"abcdef\"\n",
    "\n",
    "print(number.isnumeric()) # True\n",
    "print(letters.isnumeric()) # False"
   ]
  },
  {
   "cell_type": "code",
   "execution_count": 30,
   "metadata": {},
   "outputs": [
    {
     "name": "stdout",
     "output_type": "stream",
     "text": [
      "1,3,6,2,5,4,8\n"
     ]
    }
   ],
   "source": [
    "s = ','\n",
    "s2 = '1362548'\n",
    "with_commas = s.join(s2)\n",
    "print(with_commas) # 1,3,6,2,5,4,8"
   ]
  },
  {
   "cell_type": "code",
   "execution_count": 31,
   "metadata": {},
   "outputs": [
    {
     "name": "stdout",
     "output_type": "stream",
     "text": [
      "['a', 'horse', 'walks', 'into', 'a', 'bar']\n"
     ]
    }
   ],
   "source": [
    "phrase = 'a horse walks into a bar'\n",
    "print(phrase.split()) # ['a', 'horse', 'walks', 'into', 'a', 'bar']"
   ]
  },
  {
   "cell_type": "code",
   "execution_count": 32,
   "metadata": {},
   "outputs": [
    {
     "name": "stdout",
     "output_type": "stream",
     "text": [
      "['A long long time ago', ' in a galaxy far away', ' Naboo was under an attack']\n"
     ]
    }
   ],
   "source": [
    "lyrics = 'A long long time ago, in a galaxy far away, Naboo was under an attack'\n",
    "print(lyrics.split(',')) # ['A long long time ago', ' in a galaxy far away', ' Naboo was under an attack']"
   ]
  },
  {
   "cell_type": "code",
   "execution_count": 34,
   "metadata": {},
   "outputs": [
    {
     "name": "stdout",
     "output_type": "stream",
     "text": [
      "6\n"
     ]
    }
   ],
   "source": [
    "print('geocomputing'.find('p')) # 6"
   ]
  },
  {
   "cell_type": "code",
   "execution_count": 35,
   "metadata": {},
   "outputs": [
    {
     "name": "stdout",
     "output_type": "stream",
     "text": [
      "boots and cows and boots and cows and boots and cows\n"
     ]
    }
   ],
   "source": [
    "song = 'boots and cats and boots and cats and boots and cats'\n",
    "improved = song.replace('cats', 'cows')\n",
    "print(improved) # boots and cows and boots and cows and boots and cows"
   ]
  },
  {
   "cell_type": "code",
   "execution_count": 37,
   "metadata": {},
   "outputs": [
    {
     "name": "stdout",
     "output_type": "stream",
     "text": [
      "[[1, 2, 3, 4, 5, 6], ['cat', 'cow', 'crow', 'downward dog']]\n"
     ]
    }
   ],
   "source": [
    "nums = [1,2,3,4,5,6]\n",
    "strings = ['cat','cow','crow','downward dog']\n",
    "lists = [[1,2,3,4,5,6],['cat','cow','crow','downward dog']]\n",
    "lists2 = [nums,strings]\n",
    "print(lists2)"
   ]
  },
  {
   "cell_type": "code",
   "execution_count": 38,
   "metadata": {},
   "outputs": [
    {
     "name": "stdout",
     "output_type": "stream",
     "text": [
      "1\n",
      "4\n"
     ]
    },
    {
     "ename": "IndexError",
     "evalue": "list index out of range",
     "output_type": "error",
     "traceback": [
      "\u001b[1;31m---------------------------------------------------------------------------\u001b[0m",
      "\u001b[1;31mIndexError\u001b[0m                                Traceback (most recent call last)",
      "\u001b[1;32m<ipython-input-38-5faa9b1d3469>\u001b[0m in \u001b[0;36m<module>\u001b[1;34m\u001b[0m\n\u001b[0;32m      3\u001b[0m \u001b[0mprint\u001b[0m\u001b[1;33m(\u001b[0m\u001b[0mnums\u001b[0m\u001b[1;33m[\u001b[0m\u001b[1;36m0\u001b[0m\u001b[1;33m]\u001b[0m\u001b[1;33m)\u001b[0m \u001b[1;31m# 1\u001b[0m\u001b[1;33m\u001b[0m\u001b[0m\n\u001b[0;32m      4\u001b[0m \u001b[0mprint\u001b[0m\u001b[1;33m(\u001b[0m\u001b[0mnums\u001b[0m\u001b[1;33m[\u001b[0m\u001b[1;33m-\u001b[0m\u001b[1;36m2\u001b[0m\u001b[1;33m]\u001b[0m\u001b[1;33m)\u001b[0m \u001b[1;31m# 4\u001b[0m\u001b[1;33m\u001b[0m\u001b[0m\n\u001b[1;32m----> 5\u001b[1;33m \u001b[0mprint\u001b[0m\u001b[1;33m(\u001b[0m\u001b[0mnums\u001b[0m\u001b[1;33m[\u001b[0m\u001b[1;36m5\u001b[0m\u001b[1;33m]\u001b[0m\u001b[1;33m)\u001b[0m \u001b[1;31m# IndexError: list index out of range\u001b[0m\u001b[1;33m\u001b[0m\u001b[0m\n\u001b[0m\u001b[0;32m      6\u001b[0m \u001b[1;31m#slicing\u001b[0m\u001b[1;33m\u001b[0m\u001b[1;33m\u001b[0m\u001b[0m\n\u001b[0;32m      7\u001b[0m \u001b[0mprint\u001b[0m\u001b[1;33m(\u001b[0m\u001b[0mnums\u001b[0m\u001b[1;33m[\u001b[0m\u001b[1;36m1\u001b[0m\u001b[1;33m:\u001b[0m\u001b[1;36m3\u001b[0m\u001b[1;33m]\u001b[0m\u001b[1;33m)\u001b[0m \u001b[1;31m#[2,3]\u001b[0m\u001b[1;33m\u001b[0m\u001b[0m\n",
      "\u001b[1;31mIndexError\u001b[0m: list index out of range"
     ]
    }
   ],
   "source": [
    "nums = [1,2,3,4,5]\n",
    "#accessing\n",
    "print(nums[0]) # 1\n",
    "print(nums[-2]) # 4\n",
    "print(nums[5]) # IndexError: list index out of range\n",
    "#slicing\n",
    "print(nums[1:3]) #[2,3]\n",
    "print(nums[2:]) #[3,4,5]"
   ]
  },
  {
   "cell_type": "code",
   "execution_count": 39,
   "metadata": {},
   "outputs": [
    {
     "name": "stdout",
     "output_type": "stream",
     "text": [
      "c\n"
     ]
    }
   ],
   "source": [
    "a = [0, ['a','b','c','d','e'], 2, 3]\n",
    "print(a[1][2]) # c"
   ]
  },
  {
   "cell_type": "code",
   "execution_count": 47,
   "metadata": {},
   "outputs": [
    {
     "name": "stdout",
     "output_type": "stream",
     "text": [
      "[1, 'text', 3, 4]\n",
      "[1, 'a', 'b', 4]\n",
      "[1, 'b', 4]\n"
     ]
    }
   ],
   "source": [
    "a = [1,2,3,4]\n",
    "a[1] = 'text'\n",
    "print(a) # [1,’text’,3,4]\n",
    "a[1:3] = 'ab'\n",
    "print(a) # [1,’a’,’b’,4]\n",
    "del(a[1])\n",
    "print(a) # [1,’b’,4]"
   ]
  },
  {
   "cell_type": "code",
   "execution_count": 48,
   "metadata": {},
   "outputs": [
    {
     "name": "stdout",
     "output_type": "stream",
     "text": [
      "[1, 2, 3, 4, 5, 6]\n"
     ]
    },
    {
     "ename": "TypeError",
     "evalue": "can only concatenate list (not \"int\") to list",
     "output_type": "error",
     "traceback": [
      "\u001b[1;31m---------------------------------------------------------------------------\u001b[0m",
      "\u001b[1;31mTypeError\u001b[0m                                 Traceback (most recent call last)",
      "\u001b[1;32m<ipython-input-48-24557b3c599a>\u001b[0m in \u001b[0;36m<module>\u001b[1;34m\u001b[0m\n\u001b[0;32m      5\u001b[0m \u001b[0mprint\u001b[0m\u001b[1;33m(\u001b[0m\u001b[0mcombined\u001b[0m\u001b[1;33m)\u001b[0m \u001b[1;31m# [1, 2, 3, 4, 5, 6]\u001b[0m\u001b[1;33m\u001b[0m\u001b[0m\n\u001b[0;32m      6\u001b[0m \u001b[1;31m# replicating lists\u001b[0m\u001b[1;33m\u001b[0m\u001b[1;33m\u001b[0m\u001b[0m\n\u001b[1;32m----> 7\u001b[1;33m \u001b[0mrepeated\u001b[0m \u001b[1;33m=\u001b[0m \u001b[0mfirst\u001b[0m \u001b[1;33m+\u001b[0m \u001b[1;36m3\u001b[0m\u001b[1;33m\u001b[0m\u001b[0m\n\u001b[0m\u001b[0;32m      8\u001b[0m \u001b[0mprint\u001b[0m\u001b[1;33m(\u001b[0m\u001b[0mrepeated\u001b[0m\u001b[1;33m)\u001b[0m \u001b[1;31m# [1, 2, 3, 1, 2, 3, 1, 2, 3]\u001b[0m\u001b[1;33m\u001b[0m\u001b[0m\n",
      "\u001b[1;31mTypeError\u001b[0m: can only concatenate list (not \"int\") to list"
     ]
    }
   ],
   "source": [
    "# concatenating lists\n",
    "first = [1,2,3]\n",
    "second = [4,5,6]\n",
    "combined = first + second\n",
    "print(combined) # [1, 2, 3, 4, 5, 6]\n",
    "# replicating lists\n",
    "repeated = first + 3\n",
    "print(repeated) # [1, 2, 3, 1, 2, 3, 1, 2, 3]"
   ]
  },
  {
   "cell_type": "code",
   "execution_count": 49,
   "metadata": {},
   "outputs": [
    {
     "name": "stdout",
     "output_type": "stream",
     "text": [
      "True\n",
      "False\n"
     ]
    }
   ],
   "source": [
    "tools = ['Python', 'JS', 'GDAL', 'QGIS']\n",
    "print('JS' in tools) # True\n",
    "print('JS' not in tools) # False"
   ]
  },
  {
   "cell_type": "code",
   "execution_count": 50,
   "metadata": {},
   "outputs": [
    {
     "name": "stdout",
     "output_type": "stream",
     "text": [
      "3\n",
      "21\n",
      "Z\n"
     ]
    }
   ],
   "source": [
    "print(len([10,21,17])) # 3\n",
    "print(max([10,21,17])) # 21\n",
    "print(min(['a','Z','z'])) # Z"
   ]
  },
  {
   "cell_type": "code",
   "execution_count": 51,
   "metadata": {},
   "outputs": [
    {
     "name": "stdout",
     "output_type": "stream",
     "text": [
      "[1, 2, 3, 4, 5, 6]\n",
      "[0, 1, 2, 3, 4, 5, 6]\n",
      "[6, 5, 4, 3, 2, 1, 0]\n"
     ]
    }
   ],
   "source": [
    "nums = [1,2,3,4,5]\n",
    "nums.append(6)\n",
    "print(nums) # [1, 2, 3, 4, 5, 6]\n",
    "nums.insert(0,0)\n",
    "print(nums) # [1, 2, 3, 4, 5, 6]\n",
    "[0, 1, 2, 3, 4, 5, 6]\n",
    "nums.reverse()\n",
    "print(nums) # [6, 5, 4, 3, 2, 1, 0]"
   ]
  },
  {
   "cell_type": "code",
   "execution_count": 52,
   "metadata": {},
   "outputs": [
    {
     "name": "stdout",
     "output_type": "stream",
     "text": [
      "[1, 2, 3, 4]\n",
      "[1, 2, 3, 4]\n"
     ]
    }
   ],
   "source": [
    "list_a = [1,2,3]\n",
    "list_b = list_a\n",
    "list_b.append(4)\n",
    "print(list_a) # [1, 2, 3, 4]\n",
    "print(list_b) # [1, 2, 3, 4]"
   ]
  },
  {
   "cell_type": "code",
   "execution_count": 53,
   "metadata": {},
   "outputs": [
    {
     "name": "stdout",
     "output_type": "stream",
     "text": [
      "[1, 2, 3]\n",
      "[1, 2, 3, 4]\n"
     ]
    }
   ],
   "source": [
    "list_a = [1,2,3]\n",
    "list_b = list_a.copy()\n",
    "list_b.append(4) # add a new value to the end of list_b list\n",
    "print(list_a) # [1, 2, 3]\n",
    "print(list_b) # [1, 2, 3, 4]"
   ]
  },
  {
   "cell_type": "code",
   "execution_count": 54,
   "metadata": {},
   "outputs": [
    {
     "name": "stdout",
     "output_type": "stream",
     "text": [
      "<class 'tuple'>\n"
     ]
    }
   ],
   "source": [
    "horses = 'Appaloosa', 'Brumby', 'Colorado Ranger'\n",
    "print(type(horses)) # <class 'tuple'>"
   ]
  },
  {
   "cell_type": "code",
   "execution_count": 55,
   "metadata": {},
   "outputs": [
    {
     "name": "stdout",
     "output_type": "stream",
     "text": [
      "<class 'tuple'>\n"
     ]
    }
   ],
   "source": [
    "horses = ('Appaloosa', 'Brumby', 'Colorado Ranger')\n",
    "print(type(horses)) # <class 'tuple'>"
   ]
  },
  {
   "cell_type": "code",
   "execution_count": 56,
   "metadata": {},
   "outputs": [
    {
     "ename": "TypeError",
     "evalue": "'tuple' object does not support item assignment",
     "output_type": "error",
     "traceback": [
      "\u001b[1;31m---------------------------------------------------------------------------\u001b[0m",
      "\u001b[1;31mTypeError\u001b[0m                                 Traceback (most recent call last)",
      "\u001b[1;32m<ipython-input-56-15a5fc993287>\u001b[0m in \u001b[0;36m<module>\u001b[1;34m\u001b[0m\n\u001b[0;32m      1\u001b[0m \u001b[0mhorses\u001b[0m \u001b[1;33m=\u001b[0m \u001b[1;33m(\u001b[0m\u001b[1;34m'Appaloosa'\u001b[0m\u001b[1;33m,\u001b[0m \u001b[1;34m'Brumby'\u001b[0m\u001b[1;33m,\u001b[0m \u001b[1;34m'Colorado Ranger'\u001b[0m\u001b[1;33m)\u001b[0m\u001b[1;33m\u001b[0m\u001b[0m\n\u001b[1;32m----> 2\u001b[1;33m \u001b[0mhorses\u001b[0m\u001b[1;33m[\u001b[0m\u001b[1;36m2\u001b[0m\u001b[1;33m]\u001b[0m \u001b[1;33m=\u001b[0m \u001b[1;34m'Boerperd'\u001b[0m \u001b[1;31m# TypeError: 'tuple' object does not support item assignment\u001b[0m\u001b[1;33m\u001b[0m\u001b[0m\n\u001b[0m",
      "\u001b[1;31mTypeError\u001b[0m: 'tuple' object does not support item assignment"
     ]
    }
   ],
   "source": [
    "horses = ('Appaloosa', 'Brumby', 'Colorado Ranger')\n",
    "horses[2] = 'Boerperd' # TypeError: 'tuple' object does not support item assignment"
   ]
  },
  {
   "cell_type": "code",
   "execution_count": 57,
   "metadata": {},
   "outputs": [
    {
     "name": "stdout",
     "output_type": "stream",
     "text": [
      "3\n",
      "21\n",
      "Z\n"
     ]
    }
   ],
   "source": [
    "print(len((10,21,17))) # 3\n",
    "print(max((10,21,17))) # 21\n",
    "print(min(('a','Z','z'))) # Z"
   ]
  },
  {
   "cell_type": "code",
   "execution_count": 60,
   "metadata": {},
   "outputs": [
    {
     "name": "stdout",
     "output_type": "stream",
     "text": [
      "1\n",
      "3\n",
      "2.0\n",
      "[40, 41]\n"
     ]
    }
   ],
   "source": [
    "a_tuple = (1,2,3,4)\n",
    "b_tuple = (1,2.,'3',[40,41])\n",
    "a,b,c,d = a_tuple\n",
    "print(a) # 1\n",
    "print(c) # 3\n",
    "\n",
    "one,two,three,four = b_tuple\n",
    "print(two) # 2.0\n",
    "print(four) # [40, 41]"
   ]
  },
  {
   "cell_type": "code",
   "execution_count": 61,
   "metadata": {},
   "outputs": [
    {
     "name": "stdout",
     "output_type": "stream",
     "text": [
      "a c\n",
      "1 3\n"
     ]
    }
   ],
   "source": [
    "s = 'abcd'\n",
    "one,two,three,four = s\n",
    "print(one,three) # a c\n",
    "l = [1,2,3,4]\n",
    "a,b,c,d = l\n",
    "print(a,c) # 1 3"
   ]
  },
  {
   "cell_type": "code",
   "execution_count": 62,
   "metadata": {},
   "outputs": [],
   "source": [
    "city_population = {\"New York City\":8550405, \"Los Angeles\":3971883, \"Chicago\":2720546}"
   ]
  },
  {
   "cell_type": "code",
   "execution_count": 63,
   "metadata": {},
   "outputs": [
    {
     "name": "stdout",
     "output_type": "stream",
     "text": [
      "uno\n"
     ]
    }
   ],
   "source": [
    "numeros = {1:'uno', 2:'dos', 3:'tres'}\n",
    "print(numeros[1]) # uno"
   ]
  },
  {
   "cell_type": "code",
   "execution_count": 64,
   "metadata": {},
   "outputs": [
    {
     "name": "stdout",
     "output_type": "stream",
     "text": [
      "{'red': 'ff0000', 'grn': '00ff00', 'blu': '0000ff'}\n"
     ]
    }
   ],
   "source": [
    "colors = [['red','ff0000'],['grn','00ff00'],['blu','0000ff']]\n",
    "color_dict = dict(colors)\n",
    "print(color_dict) # {'red': 'ff0000', 'grn': '00ff00', 'blu': '0000ff'}"
   ]
  },
  {
   "cell_type": "code",
   "execution_count": 65,
   "metadata": {},
   "outputs": [
    {
     "name": "stdout",
     "output_type": "stream",
     "text": [
      "3971883\n"
     ]
    }
   ],
   "source": [
    "city_population = {\"New York City\":8550405, \"Los Angeles\":3971883, \"Chicago\":2720546}\n",
    "print(city_population[\"Los Angeles\"]) # 3971883"
   ]
  },
  {
   "cell_type": "code",
   "execution_count": 67,
   "metadata": {},
   "outputs": [
    {
     "name": "stdout",
     "output_type": "stream",
     "text": [
      "{'New York City': 8550405, 'Los Angeles': 3971883, 'Chicago': 2720546, 'Buenos Aires': 2890000}\n"
     ]
    }
   ],
   "source": [
    "city_population[\"Buenos Aires\"] = 2890000\n",
    "print(city_population) # {'New York City': 8550405, 'Los Angeles': 3971883, 'Chicago': 2720546, 'Buenos Aires': 2890000}"
   ]
  },
  {
   "cell_type": "code",
   "execution_count": 68,
   "metadata": {},
   "outputs": [
    {
     "name": "stdout",
     "output_type": "stream",
     "text": [
      "{'New York City': 8550405, 'Los Angeles': 3971883, 'Buenos Aires': 2890000}\n"
     ]
    }
   ],
   "source": [
    "del(city_population[\"Chicago\"])\n",
    "print(city_population) # {'New York City': 8550405, 'Los Angeles': 3971883, 'Buenos Aires': 2890000}"
   ]
  },
  {
   "cell_type": "code",
   "execution_count": 69,
   "metadata": {},
   "outputs": [
    {
     "name": "stdout",
     "output_type": "stream",
     "text": [
      "New York City\n",
      "Los Angeles\n",
      "Buenos Aires\n"
     ]
    }
   ],
   "source": [
    "for key in city_population.keys():\n",
    "    print(key) # New York City"
   ]
  },
  {
   "cell_type": "code",
   "execution_count": 70,
   "metadata": {},
   "outputs": [
    {
     "name": "stdout",
     "output_type": "stream",
     "text": [
      "<class 'tuple'> ('New York City', 8550405)\n",
      "<class 'tuple'> ('Los Angeles', 3971883)\n",
      "<class 'tuple'> ('Buenos Aires', 2890000)\n"
     ]
    }
   ],
   "source": [
    "for item in city_population.items():\n",
    "    print(type(item), item) # <class 'tuple'> ('New York City', 8550405), etc"
   ]
  },
  {
   "cell_type": "code",
   "execution_count": 71,
   "metadata": {},
   "outputs": [
    {
     "name": "stdout",
     "output_type": "stream",
     "text": [
      "Howdy there.\n"
     ]
    }
   ],
   "source": [
    "#define the function\n",
    "def say_hello():\n",
    "    print('Howdy there.') # Howdy there.\n",
    "\n",
    "say_hello() # call the function"
   ]
  },
  {
   "cell_type": "code",
   "execution_count": 72,
   "metadata": {},
   "outputs": [
    {
     "name": "stdout",
     "output_type": "stream",
     "text": [
      "Howdy there, Rich.\n"
     ]
    }
   ],
   "source": [
    "#define the function\n",
    "def say_hello(first_name):\n",
    "    print(f'Howdy there, {first_name}.') # use parameter within the format string\n",
    "\n",
    "say_hello('Rich') # call the function"
   ]
  },
  {
   "cell_type": "code",
   "execution_count": 73,
   "metadata": {},
   "outputs": [
    {
     "name": "stdout",
     "output_type": "stream",
     "text": [
      "Howdy there, Rich Donohue.\n"
     ]
    }
   ],
   "source": [
    "#define the function\n",
    "def say_hello(first_name, second_name):\n",
    "    print(f'Howdy there, {first_name} {second_name}.') \n",
    "\n",
    "say_hello('Rich','Donohue') # call the function"
   ]
  },
  {
   "cell_type": "code",
   "execution_count": 74,
   "metadata": {},
   "outputs": [
    {
     "name": "stdout",
     "output_type": "stream",
     "text": [
      "Howdy there, Rich Donohue.\n"
     ]
    }
   ],
   "source": [
    "#define the function\n",
    "def say_hello(first_name, second_name):\n",
    "    return  f'Howdy there, {first_name} {second_name}.'\n",
    "\n",
    "message = say_hello('Rich','Donohue') # call the function and assign the return value\n",
    "print(message) # Howdy there, Rich Donohue."
   ]
  },
  {
   "cell_type": "code",
   "execution_count": 75,
   "metadata": {},
   "outputs": [
    {
     "name": "stdout",
     "output_type": "stream",
     "text": [
      "It is Arthur – King of the Britons.\n",
      "To seek the Holy Grail.\n",
      "On second thoughts, let us not go to Camelot. It is a silly place.\n"
     ]
    }
   ],
   "source": [
    "def say_things():\n",
    "    # define variables scoped to function\n",
    "    thing_1 = 'It is Arthur – King of the Britons.'\n",
    "    thing_2 = 'To seek the Holy Grail.'\n",
    "    thing_3 = 'On second thoughts, let us not go to Camelot. It is a silly place.'\n",
    "    return (thing_1, thing_2, thing_3) # return values as tuple\n",
    "\n",
    "a,b,c = say_things()\n",
    "print(a) # It is Arthur – King of the Britons.\n",
    "print(b) # To seek the Holy Grail.\n",
    "print(c) #On second thoughts, let us not go to Camelot. It is a silly place."
   ]
  },
  {
   "cell_type": "code",
   "execution_count": 76,
   "metadata": {},
   "outputs": [
    {
     "name": "stdout",
     "output_type": "stream",
     "text": [
      "It is freezing!\n"
     ]
    }
   ],
   "source": [
    "temp = 32\n",
    "\n",
    "if temp <= 32:\n",
    "    print('It is freezing!')"
   ]
  },
  {
   "cell_type": "code",
   "execution_count": 77,
   "metadata": {},
   "outputs": [
    {
     "name": "stdout",
     "output_type": "stream",
     "text": [
      "It's not freezing but still may be cold.\n"
     ]
    }
   ],
   "source": [
    "temp = 41\n",
    "\n",
    "if temp <= 32:\n",
    "    print('It is freezing!')\n",
    "else:\n",
    "    print('It\\'s not freezing but still may be cold.')"
   ]
  },
  {
   "cell_type": "code",
   "execution_count": 78,
   "metadata": {},
   "outputs": [
    {
     "name": "stdout",
     "output_type": "stream",
     "text": [
      "It's not freezing but still cold.\n"
     ]
    }
   ],
   "source": [
    "temp = 40\n",
    "\n",
    "if temp <= 32:\n",
    "    print('It is freezing!')\n",
    "elif 32 < temp < 50:\n",
    "    print('It\\'s not freezing but still cold.')\n",
    "elif 51 < temp < 68:\n",
    "    print('Okay, it\\'s nice out') \n",
    "else:\n",
    "    print('The weather is warm but may be too hot!')"
   ]
  },
  {
   "cell_type": "code",
   "execution_count": 79,
   "metadata": {},
   "outputs": [
    {
     "name": "stdout",
     "output_type": "stream",
     "text": [
      "10\n",
      "9\n",
      "8\n",
      "7\n",
      "6\n",
      "5\n",
      "4\n",
      "3\n"
     ]
    }
   ],
   "source": [
    "count = 10\n",
    "while count > 0:\n",
    "    print(count)\n",
    "    if count == 3:\n",
    "        break\n",
    "    count -= 1"
   ]
  },
  {
   "cell_type": "code",
   "execution_count": 80,
   "metadata": {},
   "outputs": [
    {
     "name": "stdout",
     "output_type": "stream",
     "text": [
      "1\n",
      "2\n",
      "3\n",
      "4\n",
      "5\n",
      "6\n",
      "7\n",
      "8\n",
      "9\n"
     ]
    }
   ],
   "source": [
    "nums = [1,2,3,4,5,6,7,8,9]\n",
    "for num in nums:\n",
    "    print(num) # 1 ... 2 ... 3 ... etc"
   ]
  },
  {
   "cell_type": "code",
   "execution_count": 81,
   "metadata": {},
   "outputs": [
    {
     "name": "stdout",
     "output_type": "stream",
     "text": [
      "0\n",
      "1\n",
      "2\n",
      "3\n",
      "4\n",
      "5\n",
      "6\n",
      "7\n",
      "8\n",
      "9\n"
     ]
    }
   ],
   "source": [
    "for num in range(10):\n",
    "    print(num) # 0 ... 1 ... 2 ... **etc**"
   ]
  },
  {
   "cell_type": "code",
   "execution_count": 82,
   "metadata": {},
   "outputs": [
    {
     "name": "stdout",
     "output_type": "stream",
     "text": [
      "key: New York City, value: 8550405\n",
      "key: Los Angeles, value: 3971883\n",
      "key: Chicago, value: 2720546\n",
      "key: Buenos Aires, value: 2890000\n"
     ]
    }
   ],
   "source": [
    "city_population = {\"New York City\":8550405, \"Los Angeles\":3971883, \"Chicago\":2720546, \"Buenos Aires\": 2890000}\n",
    "\n",
    "for key, value in city_population.items():\n",
    "    print(f'key: {key}, value: {value}') # key: New York City, value: 8550405, etc."
   ]
  },
  {
   "cell_type": "code",
   "execution_count": 83,
   "metadata": {},
   "outputs": [],
   "source": [
    "question = 'What is the air-speed velocity of an unladen swallow?'\n",
    "words = question.split() # return list of words\n",
    "\n",
    "for word in words:\n",
    "    if word == 'African' or word == 'European':\n",
    "        print('Question is specific')\n",
    "    else:\n",
    "        # future code\n",
    "        pass"
   ]
  },
  {
   "cell_type": "code",
   "execution_count": 84,
   "metadata": {},
   "outputs": [
    {
     "name": "stdout",
     "output_type": "stream",
     "text": [
      "1.6094379124341003\n",
      "0.4363323129985824\n"
     ]
    }
   ],
   "source": [
    "import math\n",
    "print(math.log(5)) # return the natural logarithm of x\n",
    "print(math.radians(25)) # converts angle 25 from degrees to radians"
   ]
  },
  {
   "cell_type": "code",
   "execution_count": 86,
   "metadata": {},
   "outputs": [
    {
     "name": "stdout",
     "output_type": "stream",
     "text": [
      "C:\\Users\\Tanthalis\\Documents\\GitHub\\python-cheatsheet\n"
     ]
    }
   ],
   "source": [
    "import os\n",
    "print(os.getcwd()) # returns the path of the current working directory\n",
    "#print(os.uname()) # returns information about the operating system"
   ]
  },
  {
   "cell_type": "code",
   "execution_count": null,
   "metadata": {},
   "outputs": [],
   "source": []
  }
 ],
 "metadata": {
  "kernelspec": {
   "display_name": "Python 3",
   "language": "python",
   "name": "python3"
  },
  "language_info": {
   "codemirror_mode": {
    "name": "ipython",
    "version": 3
   },
   "file_extension": ".py",
   "mimetype": "text/x-python",
   "name": "python",
   "nbconvert_exporter": "python",
   "pygments_lexer": "ipython3",
   "version": "3.7.0"
  }
 },
 "nbformat": 4,
 "nbformat_minor": 2
}
